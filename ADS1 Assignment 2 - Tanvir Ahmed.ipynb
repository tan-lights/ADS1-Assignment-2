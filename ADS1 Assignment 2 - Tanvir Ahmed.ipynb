{
 "cells": [
  {
   "cell_type": "code",
   "execution_count": 3,
   "metadata": {},
   "outputs": [],
   "source": [
    "import numpy as np\n",
    "import pandas as pd\n",
    "import matplotlib.pyplot as plt\n",
    "%matplotlib inline"
   ]
  },
  {
   "cell_type": "code",
   "execution_count": 6,
   "metadata": {
    "scrolled": true
   },
   "outputs": [
    {
     "name": "stdout",
     "output_type": "stream",
     "text": [
      "[  Indicator                          Rule Weighted Indicator   %\n",
      "0       All  None  Mean  Median  Min  Sum               None NaN, Empty DataFrame\n",
      "Columns: [Indicator, Rule, Weighted Indicator, %]\n",
      "Index: [],                       0                                  1          2  \\\n",
      "0                 Title                                NaN        NaN   \n",
      "1            Font Style  Bold  Bold Italic  Italic  Normal  Font Type   \n",
      "2            Font Color                                NaN  Font Size   \n",
      "3  Horizontal Alignment       Justify  Left  Right  Center        NaN   \n",
      "\n",
      "                                                   3  \n",
      "0                                                NaN  \n",
      "1  Open Sans  Arial Black  Arial  Comic Sans  Co...  \n",
      "2                   8  9  10  11  12  13  14  15  16  \n",
      "3                                                NaN  ,                       0                                  1          2  \\\n",
      "0           Description                                NaN        NaN   \n",
      "1            Font Style  Bold  Bold Italic  Italic  Normal  Font Type   \n",
      "2            Font Color                                NaN  Font Size   \n",
      "3  Horizontal Alignment       Justify  Left  Right  Center        NaN   \n",
      "\n",
      "                                                   3  \n",
      "0                                                NaN  \n",
      "1  Open Sans  Arial Black  Arial  Comic Sans  Co...  \n",
      "2                   8  9  10  11  12  13  14  15  16  \n",
      "3                                                NaN  ,                                                    0\n",
      "0  1990  2000  2012  2013  2014  2015  2016  2017...,    0     1     2     3     4     5     6     7     8     9     10    11    12  \\\n",
      "0 NaN  1990  2000  2012  2013  2014  2015  2016  2017  2018  2019  2020  2021   \n",
      "\n",
      "   13  \n",
      "0 NaN  ,     0   1\n",
      "0 NaN NaN,       0   1\n",
      "0  1990 NaN,       0   1\n",
      "0  2000 NaN,       0   1\n",
      "0  2012 NaN,       0   1\n",
      "0  2013 NaN,       0   1\n",
      "0  2014 NaN,       0   1\n",
      "0  2015 NaN,       0   1\n",
      "0  2016 NaN,       0   1\n",
      "0  2017 NaN,       0   1\n",
      "0  2018 NaN,       0   1\n",
      "0  2019 NaN,       0   1\n",
      "0  2020 NaN,       0   1\n",
      "0  2021 NaN,                           0          1          2           3           4   \\\n",
      "0                Afghanistan    15180.0    15080.0     66750.0     74800.0   \n",
      "1                    Albania    11310.0     8220.0      9240.0      9440.0   \n",
      "2                    Algeria    95010.0   126380.0    189820.0    194000.0   \n",
      "3             American Samoa         ..         ..          ..          ..   \n",
      "4                    Andorra      430.0      590.0       600.0       590.0   \n",
      "5                     Angola    42180.0    49590.0     84930.0     88410.0   \n",
      "6        Antigua and Barbuda      360.0      610.0      1290.0      1060.0   \n",
      "7                  Argentina   243030.0   284590.0    348940.0    358180.0   \n",
      "8                    Armenia    24310.0     6020.0      9360.0      9300.0   \n",
      "9                      Aruba         ..         ..          ..          ..   \n",
      "10                 Australia   503820.0   608210.0    670930.0    581890.0   \n",
      "11                   Austria    76260.0    78240.0     77570.0     78120.0   \n",
      "12                Azerbaijan    76760.0    60260.0     83480.0     83030.0   \n",
      "13              Bahamas, The     1990.0     2390.0      3990.0      3480.0   \n",
      "14                   Bahrain    14060.0    24030.0     40880.0     43760.0   \n",
      "15                Bangladesh    92360.0   112250.0    165250.0    168630.0   \n",
      "16                  Barbados     3120.0     3600.0      4660.0      3940.0   \n",
      "17                   Belarus   137460.0    78600.0     88970.0     89610.0   \n",
      "18                   Belgium   130730.0   138310.0    111590.0    112860.0   \n",
      "19                    Belize     6560.0      800.0      1450.0      1360.0   \n",
      "20                     Benin     4760.0     7790.0     12500.0     13200.0   \n",
      "21                   Bermuda         ..         ..          ..          ..   \n",
      "22                    Bhutan     1130.0     1410.0      1870.0      1970.0   \n",
      "23                   Bolivia    23230.0    30520.0     49130.0     50910.0   \n",
      "24    Bosnia and Herzegovina    30140.0    18670.0     27260.0     27050.0   \n",
      "25                  Botswana    13660.0    14920.0     16490.0     15950.0   \n",
      "26                    Brazil   593950.0   765600.0   1042040.0   1070850.0   \n",
      "27    British Virgin Islands         ..         ..          ..          ..   \n",
      "28         Brunei Darussalam    13880.0    16720.0     17310.0     17110.0   \n",
      "29                  Bulgaria    98340.0    57700.0     57150.0     52060.0   \n",
      "30              Burkina Faso    12510.0    16620.0     25970.0     26990.0   \n",
      "31                   Burundi     2940.0     3050.0      4070.0      4430.0   \n",
      "32                Cabo Verde      240.0      400.0       730.0       720.0   \n",
      "33                  Cambodia    17280.0    20450.0     30310.0     30600.0   \n",
      "34                  Cameroon    17840.0    82580.0     84450.0     85650.0   \n",
      "35                    Canada   559840.0   671760.0    694210.0    705420.0   \n",
      "36            Cayman Islands         ..         ..          ..          ..   \n",
      "37  Central African Republic    34730.0    46740.0     46980.0     50040.0   \n",
      "38                      Chad    15440.0    35050.0     60510.0     62820.0   \n",
      "39           Channel Islands         ..         ..          ..          ..   \n",
      "40                     Chile    47520.0    71480.0    101900.0    104980.0   \n",
      "41                     China  3222270.0  4597430.0  11399830.0  11854530.0   \n",
      "42                  Colombia   124290.0   139710.0    165340.0    172010.0   \n",
      "43                   Comoros      270.0      320.0       460.0       490.0   \n",
      "44          Congo, Dem. Rep.    42210.0    35580.0     52160.0     55970.0   \n",
      "45               Congo, Rep.     4110.0     5010.0     10140.0      9630.0   \n",
      "46                Costa Rica     8850.0    10700.0     14230.0     14720.0   \n",
      "47             Cote d'Ivoire     9250.0    32420.0     19130.0     20460.0   \n",
      "48                   Croatia    28690.0    25330.0     23950.0     22830.0   \n",
      "49                      Cuba    54480.0    44590.0     46190.0     44850.0   \n",
      "\n",
      "            5           6           7           8           9   10  11  12  13  \n",
      "0      84620.0     93730.0     95370.0     97300.0     98920.0  ..  ..  .. NaN  \n",
      "1       9930.0      9850.0      9720.0     10290.0     10080.0  ..  ..  .. NaN  \n",
      "2     204130.0    212080.0    209790.0    211850.0    218910.0  ..  ..  .. NaN  \n",
      "3           ..          ..          ..          ..          ..  ..  ..  .. NaN  \n",
      "4        580.0       580.0       590.0       590.0       590.0  ..  ..  .. NaN  \n",
      "5      88980.0     90620.0     91240.0     87180.0     79730.0  ..  ..  .. NaN  \n",
      "6       1070.0      1100.0      1130.0      1160.0      1210.0  ..  ..  .. NaN  \n",
      "7     356100.0    362560.0    366370.0    367320.0    365650.0  ..  ..  .. NaN  \n",
      "8       9260.0      9260.0      9510.0      9280.0      9360.0  ..  ..  .. NaN  \n",
      "9           ..          ..          ..          ..          ..  ..  ..  .. NaN  \n",
      "10    593500.0    594580.0    573390.0    619790.0    615380.0  ..  ..  .. NaN  \n",
      "11     74350.0     75480.0     75660.0     77830.0     74980.0  ..  ..  .. NaN  \n",
      "12     83210.0     82030.0     81890.0     80520.0     80260.0  ..  ..  .. NaN  \n",
      "13      2980.0      2740.0      2570.0      2540.0      2640.0  ..  ..  .. NaN  \n",
      "14     45900.0     46950.0     47160.0     47940.0     48950.0  ..  ..  .. NaN  \n",
      "15    173510.0    182600.0    183500.0    192420.0    198970.0  ..  ..  .. NaN  \n",
      "16      3760.0      3770.0      3820.0      3720.0      3790.0  ..  ..  .. NaN  \n",
      "17     88890.0     84480.0     83590.0     85200.0     88140.0  ..  ..  .. NaN  \n",
      "18    106460.0    111520.0    110360.0    108250.0    108750.0  ..  ..  .. NaN  \n",
      "19      1310.0      1480.0      1510.0      1530.0      1560.0  ..  ..  .. NaN  \n",
      "20     13790.0     14430.0     16100.0     16270.0     17380.0  ..  ..  .. NaN  \n",
      "21          ..          ..          ..          ..          ..  ..  ..  .. NaN  \n",
      "22      2030.0      2040.0      2310.0      2420.0      2470.0  ..  ..  .. NaN  \n",
      "23     51870.0     53400.0     55780.0     56300.0     56870.0  ..  ..  .. NaN  \n",
      "24     24470.0     24640.0     27200.0     27460.0     27190.0  ..  ..  .. NaN  \n",
      "25     14760.0     14400.0     13580.0     17460.0     16120.0  ..  ..  .. NaN  \n",
      "26   1105900.0   1082700.0   1051690.0   1064920.0   1032640.0  ..  ..  .. NaN  \n",
      "27          ..          ..          ..          ..          ..  ..  ..  .. NaN  \n",
      "28     16960.0     15880.0     16180.0     16330.0     16620.0  ..  ..  .. NaN  \n",
      "29     54660.0     57310.0     54270.0     56450.0     53330.0  ..  ..  .. NaN  \n",
      "30     27490.0     28240.0     29650.0     30560.0     30850.0  ..  ..  .. NaN  \n",
      "31      4370.0      4350.0      4750.0      5390.0      5520.0  ..  ..  .. NaN  \n",
      "32       710.0       720.0       770.0       800.0       830.0  ..  ..  .. NaN  \n",
      "33     31550.0     33720.0     35390.0     37840.0     37460.0  ..  ..  .. NaN  \n",
      "34     86320.0     87300.0     88300.0     88320.0     89050.0  ..  ..  .. NaN  \n",
      "35    712310.0    707930.0    695200.0    709370.0    724930.0  ..  ..  .. NaN  \n",
      "36          ..          ..          ..          ..          ..  ..  ..  .. NaN  \n",
      "37     51370.0     53480.0     55820.0     54780.0     55680.0  ..  ..  .. NaN  \n",
      "38     65410.0     70560.0     75220.0     77690.0     80680.0  ..  ..  .. NaN  \n",
      "39          ..          ..          ..          ..          ..  ..  ..  .. NaN  \n",
      "40     98660.0    104020.0    108150.0    109350.0    109590.0  ..  ..  .. NaN  \n",
      "41  11865310.0  11859290.0  11857180.0  12058050.0  12355240.0  ..  ..  .. NaN  \n",
      "42    175230.0    176980.0    180940.0    177470.0    184100.0  ..  ..  .. NaN  \n",
      "43       490.0       510.0       540.0       580.0       590.0  ..  ..  .. NaN  \n",
      "44     57680.0     57980.0     57640.0     59660.0     58700.0  ..  ..  .. NaN  \n",
      "45      9370.0      9200.0      9250.0      9180.0      9370.0  ..  ..  .. NaN  \n",
      "46     14770.0     14630.0     15540.0     15710.0     15810.0  ..  ..  .. NaN  \n",
      "47     20410.0     21460.0     22730.0     23120.0     22900.0  ..  ..  .. NaN  \n",
      "48     22100.0     22690.0     22730.0     23400.0     22550.0  ..  ..  .. NaN  \n",
      "49     44520.0     44560.0     45650.0     42480.0     41860.0  ..  ..  .. NaN  ,            0                                                  1  \\\n",
      "0      Label                                                NaN   \n",
      "1  Font Type  Select  Open Sans  Arial  Arial Black  Comic S...   \n",
      "2      Style          Select  Normal  Bold  Italic  Bold Italic   \n",
      "3      Align                        Select  Left  Center  Right   \n",
      "4  Textcolor                                                NaN   \n",
      "5     Height                                                NaN   \n",
      "\n",
      "                2                                                  3  \n",
      "0             NaN                                                NaN  \n",
      "1       Font Size  Select  5  6  7  8  9  10  11  12  14  16  18 ...  \n",
      "2          Indent                                                NaN  \n",
      "3  Vertical Align                        Select  Top  Middle  Bottom  \n",
      "4      Background                                                NaN  \n",
      "5             NaN                                                NaN  ]\n"
     ]
    }
   ],
   "source": [
    "# URL for World Bank data\n",
    "#url = \"https://databank.worldbank.org/source/country-climate-and-development-report-(ccdr)\"\n",
    "\n",
    "#url = \"http://wdi.worldbank.org/table/3.9#\" \n",
    "\n",
    "url = 'https://databank.worldbank.org/reports.aspx?source=2&series=EN.ATM.GHGT.KT.CE&country='\n",
    "    \n",
    "page_climate = pd.read_html(url)\n",
    "\n",
    "print(page_climate)"
   ]
  },
  {
   "cell_type": "code",
   "execution_count": 10,
   "metadata": {},
   "outputs": [
    {
     "name": "stdout",
     "output_type": "stream",
     "text": [
      "   0     1     2     3     4     5     6     7     8     9     10    11    12  \\\n",
      "0 NaN  1990  2000  2012  2013  2014  2015  2016  2017  2018  2019  2020  2021   \n",
      "\n",
      "   13  \n",
      "0 NaN  \n"
     ]
    }
   ],
   "source": [
    "df_climate = page_climate[5]\n",
    "print(df_climate)\n",
    "#print(df_climate.describe())"
   ]
  },
  {
   "cell_type": "markdown",
   "metadata": {},
   "source": [
    "#### Using WBGAPI importing World Bank data on climate change"
   ]
  },
  {
   "cell_type": "code",
   "execution_count": 41,
   "metadata": {},
   "outputs": [],
   "source": [
    "import wbgapi as wb         #importing wbgapi as wb"
   ]
  },
  {
   "cell_type": "code",
   "execution_count": 86,
   "metadata": {},
   "outputs": [],
   "source": [
    "# Indicator code for Total greenhouse gas emissions (kt of CO2 equivalent) is 'EN.ATM.GHGT.KT.CE'\n",
    "\n",
    "greenhouse_emission_ind = 'EN.ATM.GHGT.KT.CE' #assigning the code to a variable"
   ]
  },
  {
   "cell_type": "code",
   "execution_count": 82,
   "metadata": {},
   "outputs": [],
   "source": [
    "def wb_data(indicator_code):\n",
    "    \"\"\"\n",
    "    This function imports data from the World Bank website for the selected\n",
    "    indicator and saves as a dataframe in the World Bank data format. \n",
    "    The years are between 1950 and 2021 with 5 years increment.  \n",
    "    Argument = indicator ID as string\n",
    "    \"\"\"\n",
    "    \n",
    "    df = wb.data.DataFrame(indicator_code, time=range(1950, 2021, 5))\n",
    "    \n",
    "    df.index.name = 'Country'\n",
    "    df.columns.name = 'Year'\n",
    "    df.columns = df.columns.str.replace(\"YR\",\"\")\n",
    "    \n",
    "    return(df)"
   ]
  },
  {
   "cell_type": "code",
   "execution_count": 83,
   "metadata": {},
   "outputs": [],
   "source": [
    "df_emission = wb_data(greenhouse_emission_ind)"
   ]
  },
  {
   "cell_type": "code",
   "execution_count": null,
   "metadata": {},
   "outputs": [],
   "source": []
  },
  {
   "cell_type": "code",
   "execution_count": null,
   "metadata": {},
   "outputs": [],
   "source": []
  },
  {
   "cell_type": "code",
   "execution_count": null,
   "metadata": {},
   "outputs": [],
   "source": []
  }
 ],
 "metadata": {
  "kernelspec": {
   "display_name": "Python 3",
   "language": "python",
   "name": "python3"
  },
  "language_info": {
   "codemirror_mode": {
    "name": "ipython",
    "version": 3
   },
   "file_extension": ".py",
   "mimetype": "text/x-python",
   "name": "python",
   "nbconvert_exporter": "python",
   "pygments_lexer": "ipython3",
   "version": "3.8.5"
  }
 },
 "nbformat": 4,
 "nbformat_minor": 4
}
