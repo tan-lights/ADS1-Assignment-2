{
 "cells": [
  {
   "cell_type": "code",
   "execution_count": 1,
   "metadata": {},
   "outputs": [],
   "source": [
    "import numpy as np\n",
    "import pandas as pd\n",
    "import matplotlib.pyplot as plt\n",
    "%matplotlib inline"
   ]
  },
  {
   "cell_type": "code",
   "execution_count": 14,
   "metadata": {},
   "outputs": [
    {
     "name": "stdout",
     "output_type": "stream",
     "text": [
      "[    0   1   2                              3   4\n",
      "0 NaN NaN NaN  World Development Indicators: NaN, Empty DataFrame\n",
      "Columns: [(Unnamed: 0_level_0, Unnamed: 0_level_1, Unnamed: 0_level_2, Unnamed: 0_level_3), (Total greenhouse gas emissions, Unnamed: 1_level_1, thousand metric tons of carbon dioxide equivalent, 2018), (Total greenhouse gas emissions, Unnamed: 2_level_1, % change, 1990-2012), (Methane emissions, Unnamed: 3_level_1, thousand metric tons of carbon dioxide equivalent, 2018), (Methane emissions, Unnamed: 4_level_1, % change, 1990-2012), (Methane emissions, From energy processes, % of total, 2008), (Methane emissions, Agricultural, % of total, 2008), (Nitrous oxide emissions, Unnamed: 7_level_1, thousand metric tons of carbon dioxide equivalent, 2018), (Nitrous oxide emissions, Unnamed: 8_level_1, % change, 1990-2012), (Nitrous oxide emissions, From energy processes, % of total, 2008), (Nitrous oxide emissions, Agricultural, % of total, 2008), (Other greenhouse gas emissions, Unnamed: 11_level_1, thousand metric tons of carbon dioxide equivalent, 2012), (Other greenhouse gas emissions, Unnamed: 12_level_1, % change, 1990-2012)]\n",
      "Index: [],                       0           1      2        3      4     5     6   \\\n",
      "0            Afghanistan     98920.0   43.5    81510   80.4  45.1  44.2   \n",
      "1                Albania     10080.0  -19.9     3160    3.8   5.3  66.3   \n",
      "2                Algeria    218910.0   65.8    49550   50.2  65.5  10.9   \n",
      "3         American Samoa          ..  188.3       ..   48.3    ..    ..   \n",
      "4                Andorra       590.0     ..       50     ..   0.0   0.0   \n",
      "..                   ...         ...    ...      ...    ...   ...   ...   \n",
      "221   Sub-Saharan Africa   2360480.0   35.5   962170   33.0  30.0  58.8   \n",
      "222           Low income   1108360.0   33.9   644370   35.8  29.0  61.8   \n",
      "223  Lower middle income   9007720.0   35.0  2397740   24.0  28.2  54.7   \n",
      "224  Upper middle income  20624200.0   70.9  3502260   50.0  48.3  36.7   \n",
      "225          High income  14899650.0    8.8  1557710  -10.3  34.9  39.3   \n",
      "\n",
      "          7       8     9     10       11     12  \n",
      "0       8960    24.6  19.0  75.2     3299  118.1  \n",
      "1       1100   -26.5   6.1  90.4      682  -75.0  \n",
      "2      12110    49.9  41.0  50.3     1333  202.7  \n",
      "3         ..  2509.8    ..    ..       ..  433.3  \n",
      "4          0     0.0    ..    ..       ..     ..  \n",
      "..       ...     ...   ...   ...      ...    ...  \n",
      "221   517600    25.6   9.7  74.3   120203   62.2  \n",
      "222   297690    27.4  12.0  84.4   -13117   45.4  \n",
      "223   896400    21.2   6.1  78.2  -134943    1.6  \n",
      "224  1085190    33.2   7.9  80.7  -243934   74.7  \n",
      "225   691520   -25.8  15.7  71.0   -88825   63.4  \n",
      "\n",
      "[226 rows x 13 columns]]\n"
     ]
    }
   ],
   "source": [
    "# URL for World Bank data\n",
    "#url = \"https://databank.worldbank.org/source/country-climate-and-development-report-(ccdr)\"\n",
    "\n",
    "url = \"http://wdi.worldbank.org/table/3.9\" \n",
    "    \n",
    "page_climate = pd.read_html(url)\n",
    "\n",
    "print(page_climate)"
   ]
  },
  {
   "cell_type": "code",
   "execution_count": 15,
   "metadata": {},
   "outputs": [
    {
     "name": "stdout",
     "output_type": "stream",
     "text": [
      "Int64Index([0, 1, 2, 3, 4], dtype='int64')\n"
     ]
    }
   ],
   "source": [
    "df_climate = page_climate[0]\n",
    "print(df_climate.columns)\n",
    "#print(df_climate.describe())"
   ]
  },
  {
   "cell_type": "code",
   "execution_count": null,
   "metadata": {},
   "outputs": [],
   "source": []
  }
 ],
 "metadata": {
  "kernelspec": {
   "display_name": "Python 3",
   "language": "python",
   "name": "python3"
  },
  "language_info": {
   "codemirror_mode": {
    "name": "ipython",
    "version": 3
   },
   "file_extension": ".py",
   "mimetype": "text/x-python",
   "name": "python",
   "nbconvert_exporter": "python",
   "pygments_lexer": "ipython3",
   "version": "3.8.5"
  }
 },
 "nbformat": 4,
 "nbformat_minor": 4
}
